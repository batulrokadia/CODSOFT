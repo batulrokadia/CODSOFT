{
  "nbformat": 4,
  "nbformat_minor": 0,
  "metadata": {
    "colab": {
      "provenance": [],
      "authorship_tag": "ABX9TyMiaUib7y1K1jI14FY/4qDc",
      "include_colab_link": true
    },
    "kernelspec": {
      "name": "python3",
      "display_name": "Python 3"
    },
    "language_info": {
      "name": "python"
    }
  },
  "cells": [
    {
      "cell_type": "markdown",
      "metadata": {
        "id": "view-in-github",
        "colab_type": "text"
      },
      "source": [
        "<a href=\"https://colab.research.google.com/github/batulrokadia/CODSOFT/blob/main/Titanic_survival_prediction.ipynb\" target=\"_parent\"><img src=\"https://colab.research.google.com/assets/colab-badge.svg\" alt=\"Open In Colab\"/></a>"
      ]
    },
    {
      "cell_type": "markdown",
      "source": [
        "importing the required libraries"
      ],
      "metadata": {
        "id": "MBAUChzpoiQg"
      }
    },
    {
      "cell_type": "code",
      "execution_count": 1,
      "metadata": {
        "id": "UCeviwwym0Bi"
      },
      "outputs": [],
      "source": [
        "import numpy as np\n",
        "import pandas as pd\n",
        "import matplotlib.pyplot as plt\n",
        "import seaborn as sns\n",
        "from sklearn.model_selection import train_test_split\n",
        "from sklearn.linear_model import LogisticRegression\n",
        "from sklearn.metrics import accuracy_score"
      ]
    },
    {
      "cell_type": "markdown",
      "source": [
        "Data processing"
      ],
      "metadata": {
        "id": "qkBYmqzhotJv"
      }
    },
    {
      "cell_type": "code",
      "source": [
        "#load dataset to Pandas dataframe\n",
        "df=pd.read_csv('/content/Titanic-Dataset.csv')"
      ],
      "metadata": {
        "id": "0M4XCGDfoyPg"
      },
      "execution_count": 2,
      "outputs": []
    },
    {
      "cell_type": "code",
      "source": [
        "df.head()"
      ],
      "metadata": {
        "id": "3UZEwlGepQsG"
      },
      "execution_count": null,
      "outputs": []
    },
    {
      "cell_type": "code",
      "source": [
        "df.shape"
      ],
      "metadata": {
        "id": "SSTfwLLspzH5"
      },
      "execution_count": null,
      "outputs": []
    },
    {
      "cell_type": "code",
      "source": [
        "df.info()"
      ],
      "metadata": {
        "id": "4VNT1075qKbK"
      },
      "execution_count": null,
      "outputs": []
    },
    {
      "cell_type": "code",
      "source": [
        "#checking how many null values we have\n",
        "df.isnull().sum()"
      ],
      "metadata": {
        "id": "0E8P0GAtqcdX"
      },
      "execution_count": null,
      "outputs": []
    },
    {
      "cell_type": "markdown",
      "source": [
        "handling the null values"
      ],
      "metadata": {
        "id": "1NlE1JBGq9ia"
      }
    },
    {
      "cell_type": "code",
      "source": [
        "#dropping the cabin column as it has majority null values\n",
        "df=df.drop(columns='Cabin', axis=1)"
      ],
      "metadata": {
        "id": "pOiU4whAq7d5"
      },
      "execution_count": null,
      "outputs": []
    },
    {
      "cell_type": "code",
      "source": [
        "#filling the null values in age column with the mean of ages\n",
        "df['Age'].fillna(df['Age'].mean(), inplace=True)"
      ],
      "metadata": {
        "id": "FqatbAesrspN"
      },
      "execution_count": null,
      "outputs": []
    },
    {
      "cell_type": "code",
      "source": [
        "#filling null values in embarked column with the mode\n",
        "df['Embarked'].fillna(df['Embarked'].mode()[0], inplace=True)"
      ],
      "metadata": {
        "id": "9BNC4vM8spHG"
      },
      "execution_count": 3,
      "outputs": []
    },
    {
      "cell_type": "code",
      "source": [
        "#to find number of people who survived\n",
        "df['Survived'].value_counts()"
      ],
      "metadata": {
        "id": "sFpAkjAJtt-X"
      },
      "execution_count": null,
      "outputs": []
    },
    {
      "cell_type": "markdown",
      "source": [
        "data visualisation"
      ],
      "metadata": {
        "id": "XzjupA22xLE7"
      }
    },
    {
      "cell_type": "code",
      "source": [
        "sns.set()"
      ],
      "metadata": {
        "id": "f5DT_Ajxxj_2"
      },
      "execution_count": null,
      "outputs": []
    },
    {
      "cell_type": "code",
      "source": [
        "#countplot for survived column\n",
        "sns.countplot(x='Survived', data=df)\n"
      ],
      "metadata": {
        "id": "FZvrdCGvxJvg"
      },
      "execution_count": null,
      "outputs": []
    },
    {
      "cell_type": "code",
      "source": [
        "#survivors based on gender\n",
        "sns.countplot(x='Sex', hue='Survived', data=df)"
      ],
      "metadata": {
        "id": "mqjCSunv0hJ5"
      },
      "execution_count": null,
      "outputs": []
    },
    {
      "cell_type": "code",
      "source": [
        "#no. of people embarked from the 3 different ports\n",
        "sns.countplot(x='Embarked', data=df)"
      ],
      "metadata": {
        "id": "-5lErqGq13Hy"
      },
      "execution_count": null,
      "outputs": []
    },
    {
      "cell_type": "code",
      "source": [
        "#survivors based on embarked town\n",
        "sns.countplot(x='Survived', hue='Embarked', data=df)"
      ],
      "metadata": {
        "id": "slPXKn4n1frd"
      },
      "execution_count": null,
      "outputs": []
    },
    {
      "cell_type": "code",
      "source": [
        "#survivors based on pclass\n",
        "sns.countplot(x='Pclass', hue='Survived', data=df)"
      ],
      "metadata": {
        "id": "nxLI4cPAPcDs"
      },
      "execution_count": null,
      "outputs": []
    },
    {
      "cell_type": "code",
      "source": [
        "plt.hist(df['Age'])\n",
        "plt.show()"
      ],
      "metadata": {
        "id": "thCceMho4u8_"
      },
      "execution_count": null,
      "outputs": []
    },
    {
      "cell_type": "markdown",
      "source": [
        "Convert categorical columns to numerical"
      ],
      "metadata": {
        "id": "DhMWgrIPH8vs"
      }
    },
    {
      "cell_type": "code",
      "source": [
        "#converting categorical columns to numerical\n",
        "df.replace({'Sex':{'male':0,'female':1}, 'Embarked':{'S':0,'C':1,'Q':2}}, inplace=True)\n",
        "df.head()"
      ],
      "metadata": {
        "id": "e5nkgcnX5jAo"
      },
      "execution_count": null,
      "outputs": []
    },
    {
      "cell_type": "markdown",
      "source": [
        "Decide the columns required for training the model"
      ],
      "metadata": {
        "id": "ZRFPY_gBIxO9"
      }
    },
    {
      "cell_type": "code",
      "source": [
        "#dropping the columns which we do not need\n",
        "y=df['Survived']\n",
        "x=df.drop(columns=['PassengerId', 'Name','Ticket','Survived'], axis=1)\n",
        "print(x)\n",
        "print(y)\n"
      ],
      "metadata": {
        "id": "VBk5eX4H8DJ0"
      },
      "execution_count": null,
      "outputs": []
    },
    {
      "cell_type": "markdown",
      "source": [
        "Splitting data into training data and test data"
      ],
      "metadata": {
        "id": "ggw9hPkp9S_6"
      }
    },
    {
      "cell_type": "code",
      "source": [
        "x_train, x_test, y_train, y_test= train_test_split(x, y, test_size=0.2, random_state=2)\n",
        "print(x.shape, x_train.shape, x_test.shape)"
      ],
      "metadata": {
        "id": "h87Gn2fb9Wnt"
      },
      "execution_count": null,
      "outputs": []
    },
    {
      "cell_type": "markdown",
      "source": [
        "Model Training\n",
        "\n",
        "Logistic Regression"
      ],
      "metadata": {
        "id": "CI6TqVhkAI8Z"
      }
    },
    {
      "cell_type": "code",
      "source": [
        "model= LogisticRegression()"
      ],
      "metadata": {
        "id": "0W2yrotIERPx"
      },
      "execution_count": null,
      "outputs": []
    },
    {
      "cell_type": "code",
      "source": [
        "#training the model with training data\n",
        "model.fit(x_train,y_train)"
      ],
      "metadata": {
        "id": "QTlkdlfHEXgj"
      },
      "execution_count": null,
      "outputs": []
    },
    {
      "cell_type": "markdown",
      "source": [
        "Evaluating the model's accuracy"
      ],
      "metadata": {
        "id": "7eSQ55WyBIA1"
      }
    },
    {
      "cell_type": "code",
      "source": [
        "training_model= model.predict(x_train)\n",
        "print(training_model)"
      ],
      "metadata": {
        "id": "OygKx4TOBHEp"
      },
      "execution_count": null,
      "outputs": []
    },
    {
      "cell_type": "code",
      "source": [
        "accuracy_of_training=accuracy_score(y_train, training_model)\n",
        "print(\"Model's accuracy in percentage is: \", accuracy_of_training*100, '%')"
      ],
      "metadata": {
        "id": "iNyWnD33CjIN"
      },
      "execution_count": null,
      "outputs": []
    },
    {
      "cell_type": "code",
      "source": [
        "testing_model=model.predict(x_test)\n",
        "print(testing_model)"
      ],
      "metadata": {
        "id": "N4qB19cjDFrg"
      },
      "execution_count": null,
      "outputs": []
    },
    {
      "cell_type": "code",
      "source": [
        "accuracy_of_testing=accuracy_score(testing_model, y_test)\n",
        "print(\"Model's accuracy in percentage is: \", accuracy_of_testing*100, '%')"
      ],
      "metadata": {
        "id": "icsn84-3DghP"
      },
      "execution_count": null,
      "outputs": []
    },
    {
      "cell_type": "markdown",
      "source": [
        "Using the model to make a prediction"
      ],
      "metadata": {
        "id": "mZXMHyc-OLJt"
      }
    },
    {
      "cell_type": "code",
      "source": [
        "result=model.predict([[1,0,3,1,2,7.0,0]])\n",
        "if(result==0):\n",
        "  print(\"Not survived\")\n",
        "else:\n",
        "  print(\"survived\")"
      ],
      "metadata": {
        "id": "PqjWfoHOL5I2"
      },
      "execution_count": null,
      "outputs": []
    }
  ]
}